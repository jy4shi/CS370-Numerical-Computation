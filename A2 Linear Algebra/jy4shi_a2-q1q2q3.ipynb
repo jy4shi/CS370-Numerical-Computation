{
 "cells": [
  {
   "cell_type": "markdown",
   "metadata": {},
   "source": [
    "# A2Q1: SparseMatMult"
   ]
  },
  {
   "cell_type": "code",
   "execution_count": 1,
   "metadata": {},
   "outputs": [],
   "source": [
    "import numpy as np\n",
    "from scipy.sparse import dok_matrix\n",
    "from copy import deepcopy\n",
    "import matplotlib.pyplot as plt"
   ]
  },
  {
   "cell_type": "code",
   "execution_count": 2,
   "metadata": {},
   "outputs": [],
   "source": [
    "def SparseMatMult(G, x):\n",
    "    '''\n",
    "      y = SparseMatMult(G, x)\n",
    "      \n",
    "      Multiplies a vector (x) by a sparse matrix G,\n",
    "      such that y = G @ x .\n",
    "      \n",
    "      Inputs:\n",
    "        G is an NxM dictionary-of-keys (dok) sparse matrix\n",
    "        x is an M-vector\n",
    "      \n",
    "      Output:\n",
    "        y is an N-vector\n",
    "    '''\n",
    "    rows,cols = G.nonzero()\n",
    "    Nrows,Ncols = np.shape(G)\n",
    "    y = np.zeros(Nrows)\n",
    "\n",
    "    # === YOUR CODE HERE\n",
    "    for n in range(rows.size):\n",
    "        row_index = rows[n]\n",
    "        col_index = cols[n]\n",
    "        y[row_index] =  y[row_index] + G[row_index, col_index] * x[col_index]\n",
    "    return y"
   ]
  },
  {
   "cell_type": "markdown",
   "metadata": {},
   "source": [
    "# A2Q2: Page Rank"
   ]
  },
  {
   "cell_type": "code",
   "execution_count": 3,
   "metadata": {
    "code_folding": []
   },
   "outputs": [],
   "source": [
    "def PageRank(G, alpha):\n",
    "    '''\n",
    "     p, iters = PageRank(G, alpha)\n",
    "\n",
    "     Computes the Google Page-rank for the network in the adjacency matrix G.\n",
    "     \n",
    "     Note: This function never forms a full RxR matrix, where R is the number\n",
    "           of node in the network.\n",
    "\n",
    "     Input\n",
    "       G     is an RxR adjacency matrix, G[i,j] = 1 iff node j projects to node i\n",
    "             Note: G must be a dictionary-of-keys (dok) sparse matrix\n",
    "       alpha is a scalar between 0 and 1\n",
    "\n",
    "     Output\n",
    "       p     is a probability vector containing the Page-rank of each node\n",
    "       iters is the number of iterations used to achieve a change tolerance\n",
    "             of 1e-8 (changes to elements of p are all smaller than 1e-8)\n",
    "\n",
    "     [-1] if code is not readable\n",
    "    '''\n",
    "    \n",
    "    R = np.shape(G)[0]  # R = Number of nodes\n",
    "    p = np.zeros(R, dtype=float)\n",
    "    iters = 0\n",
    "\n",
    "    # === YOUR CODE HERE ===\n",
    "    P = deepcopy(G)\n",
    "    p = np.ones(R) / R\n",
    "    e = np.ones(R)\n",
    "    d = np.zeros(R, dtype=float)\n",
    "    deg = np.sum(G, axis=0)\n",
    "    for i in range(R):\n",
    "        if deg[0, i] == 0:\n",
    "            d[i] = 1\n",
    "        for r in range(R):\n",
    "            P[r,i] /= deg[0,i] \n",
    "            \n",
    "    while True:\n",
    "        new_p = alpha*SparseMatMult(P, p) + (d@p)*alpha/R*e + (1-alpha)/R*e\n",
    "        iters = iters + 1\n",
    "        diff = new_p - p\n",
    "        if np.max(diff) < 0.00000001:\n",
    "            return p, iters\n",
    "        p = new_p\n"
   ]
  },
  {
   "cell_type": "markdown",
   "metadata": {},
   "source": [
    "# A2Q3: Network Experiments"
   ]
  },
  {
   "cell_type": "markdown",
   "metadata": {},
   "source": [
    "## (a) Create sparse matrix"
   ]
  },
  {
   "cell_type": "code",
   "execution_count": 4,
   "metadata": {},
   "outputs": [],
   "source": [
    "# === YOUR CODE HERE ===\n",
    "G = dok_matrix((11,11), dtype=np.float32)\n",
    "G[1,0] = 1\n",
    "G[2,0] = 1\n",
    "G[3,0] = 1\n",
    "G[4,0] = 1\n",
    "G[0,1] = 1\n",
    "G[2,1] = 1\n",
    "G[3,1] = 1\n",
    "G[4,1] = 1\n",
    "G[10,1] = 1\n",
    "G[0,2] = 1\n",
    "G[1,2] = 1\n",
    "G[3,2] = 1\n",
    "G[4,2] = 1\n",
    "G[0,3] = 1\n",
    "G[1,3] = 1\n",
    "G[2,3] = 1\n",
    "G[4,3] = 1\n",
    "G[0,4] = 1\n",
    "G[1,4] = 1\n",
    "G[2,4] = 1\n",
    "G[3,4] = 1\n",
    "G[1,5] = 1\n",
    "G[6,5] = 1\n",
    "G[7,5] = 1\n",
    "G[8,5] = 1\n",
    "G[9,5] = 1\n",
    "G[10,5] = 1\n",
    "G[5,6] = 1\n",
    "G[5,7] = 1\n",
    "G[5,8] = 1\n",
    "G[5,9] = 1\n",
    "G[5,10] = 1\n",
    "G[1,10] = 1"
   ]
  },
  {
   "cell_type": "markdown",
   "metadata": {},
   "source": [
    "## (b) Run PageRank on network"
   ]
  },
  {
   "cell_type": "code",
   "execution_count": 5,
   "metadata": {},
   "outputs": [
    {
     "data": {
      "image/png": "[encoded data removed]",
      "text/plain": [
       "<Figure size 432x288 with 1 Axes>"
      ]
     },
     "metadata": {
      "needs_background": "light"
     },
     "output_type": "display_data"
    }
   ],
   "source": [
    "# === YOUR CODE HERE ===\n",
    "p,iters = PageRank(G, 0.85)\n",
    "plt.stem(p);\n",
    "plt.xlabel('Node')\n",
    "plt.ylabel('Node Scores');"
   ]
  },
  {
   "cell_type": "markdown",
   "metadata": {},
   "source": [
    "## (c) Extreme $\\alpha$ Values"
   ]
  },
  {
   "cell_type": "code",
   "execution_count": 6,
   "metadata": {},
   "outputs": [],
   "source": [
    "# Call PageRank over a range of alpha values\n",
    "a_value = 0\n",
    "A = []\n",
    "I = []\n",
    "while a_value <= 1:\n",
    "    p,iters = PageRank(G, a_value)\n",
    "    A.append(a_value)\n",
    "    I.append(iters)\n",
    "    a_value += 0.05"
   ]
  },
  {
   "cell_type": "code",
   "execution_count": 7,
   "metadata": {},
   "outputs": [
    {
     "data": {
      "image/png": "[encoded data removed]",
      "text/plain": [
       "<Figure size 432x288 with 1 Axes>"
      ]
     },
     "metadata": {
      "needs_background": "light"
     },
     "output_type": "display_data"
    }
   ],
   "source": [
    "# Plot alpha vs iterations\n",
    "plt.plot(A, I);\n",
    "plt.xlabel('alpha')\n",
    "plt.ylabel('iterations');\n",
    "\n",
    "# It was found that as alpha increases, the number of iterations also increases\n",
    "# It was also found that the number of iterations increases slowly as alpha increases\n",
    "#     from 0.0 to 0.4, but the growth rate is increasing as alpha gets higher than 0.4"
   ]
  },
  {
   "cell_type": "markdown",
   "metadata": {},
   "source": [
    "## (d) Stem plots of Scores"
   ]
  },
  {
   "cell_type": "code",
   "execution_count": 8,
   "metadata": {},
   "outputs": [
    {
     "data": {
      "image/png": "[encoded data removed]",
      "text/plain": [
       "<Figure size 432x288 with 1 Axes>"
      ]
     },
     "metadata": {
      "needs_background": "light"
     },
     "output_type": "display_data"
    }
   ],
   "source": [
    "# Stem plot for 0.05\n",
    "p,iters = PageRank(G, 0.05)\n",
    "plt.stem(p);\n",
    "plt.xlabel('Node')\n",
    "plt.ylabel('Node Scores');"
   ]
  },
  {
   "cell_type": "code",
   "execution_count": 9,
   "metadata": {},
   "outputs": [
    {
     "data": {
      "image/png": "[encoded data removed]",
      "text/plain": [
       "<Figure size 432x288 with 1 Axes>"
      ]
     },
     "metadata": {
      "needs_background": "light"
     },
     "output_type": "display_data"
    }
   ],
   "source": [
    "# Stem plot for 0.95\n",
    "p,iters = PageRank(G, 0.95)\n",
    "plt.stem(p);\n",
    "plt.xlabel('Node')\n",
    "plt.ylabel('Node Scores');"
   ]
  },
  {
   "cell_type": "markdown",
   "metadata": {},
   "source": [
    "YOUR ANSWER TO THE QUESTION IN 3(d).\n",
    "\n",
    "(double-click to edit)\n",
    "\n",
    "Having a low a-value will result in a probability distribution cloer to a uniform distribution in node scores. Meaning that each web page will have a similar chance of being visited, and the network adjacency graph/the actual links between web pages will have less impact on the chance being visited."
   ]
  },
  {
   "cell_type": "code",
   "execution_count": null,
   "metadata": {},
   "outputs": [],
   "source": []
  }
 ],
 "metadata": {
  "kernelspec": {
   "display_name": "Python 3",
   "language": "python",
   "name": "python3"
  },
  "language_info": {
   "codemirror_mode": {
    "name": "ipython",
    "version": 3
   },
   "file_extension": ".py",
   "mimetype": "text/x-python",
   "name": "python",
   "nbconvert_exporter": "python",
   "pygments_lexer": "ipython3",
   "version": "3.7.3"
  }
 },
 "nbformat": 4,
 "nbformat_minor": 2
}
