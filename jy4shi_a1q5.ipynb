{
 "cells": [
  {
   "cell_type": "markdown",
   "metadata": {},
   "source": [
    "# A1-Q5: Sum of Fractions"
   ]
  },
  {
   "cell_type": "code",
   "execution_count": 1,
   "metadata": {},
   "outputs": [],
   "source": [
    "# Standard imports\n",
    "import numpy as np\n",
    "import matplotlib.pyplot as plt"
   ]
  },
  {
   "cell_type": "markdown",
   "metadata": {},
   "source": [
    "## Some functions that you will use"
   ]
  },
  {
   "cell_type": "code",
   "execution_count": 2,
   "metadata": {},
   "outputs": [],
   "source": [
    "def fl(x, t=14):\n",
    "    '''\n",
    "     xbar = fl(x, t=14)\n",
    "     \n",
    "     Finds the nearest floating-point value to x, using t mantissa\n",
    "     digits, base-10.\n",
    "    '''\n",
    "    \n",
    "    if x==0:\n",
    "        return x\n",
    "    \n",
    "    d = np.floor( np.log10(abs(x)) + 1)\n",
    "    \n",
    "    x1 = x * 10.**(-d)\n",
    "    \n",
    "    x2 = np.round(x1, decimals=t)\n",
    "    \n",
    "    return x2*10.**d"
   ]
  },
  {
   "cell_type": "code",
   "execution_count": 3,
   "metadata": {},
   "outputs": [],
   "source": [
    "# Computes the expression using IEEE double-precision\n",
    "def F_exact(x):\n",
    "    '''\n",
    "     y = F_exact(x, t)\n",
    "     \n",
    "     Computes the expression using IEEE double-precision.\n",
    "     \n",
    "     Inputs:\n",
    "      x is the x-value\n",
    "      t is the number of mantissa digits for the arithmetic\n",
    "      \n",
    "     Output:\n",
    "      y is the value of the expression\n",
    "    '''\n",
    "    return 1./(1.-x) - 1./(1.+x)"
   ]
  },
  {
   "cell_type": "code",
   "execution_count": 4,
   "metadata": {},
   "outputs": [],
   "source": [
    "# Computes the expression using only t-digit arithmetic\n",
    "def F_fp(x, t):\n",
    "    '''\n",
    "     y = F_fp(x, t)\n",
    "     \n",
    "     Computes the expression using t-digit arithmetic.\n",
    "     \n",
    "     Inputs:\n",
    "      x is the x-value\n",
    "      t is the number of mantissa digits for the arithmetic\n",
    "      \n",
    "     Output:\n",
    "      y is the value of the expression\n",
    "    '''\n",
    "\n",
    "    xfp = fl(x, t=t)\n",
    "    f1 = fl( 1./fl(1.-xfp, t=t) , t=t)\n",
    "    f2 = fl( 1./fl(1.+xfp, t=t) , t=t)\n",
    "    return fl(f1-f2, t=t)"
   ]
  },
  {
   "cell_type": "markdown",
   "metadata": {},
   "source": [
    "## (a) Plot `F_exact` and `F_fp`"
   ]
  },
  {
   "cell_type": "code",
   "execution_count": 5,
   "metadata": {},
   "outputs": [],
   "source": [
    "# Choose a range of x-values that yields inaccuracy.\n",
    "x = np.linspace(-0.0005, 0.0005, 1000)\n",
    "t = 4"
   ]
  },
  {
   "cell_type": "code",
   "execution_count": 6,
   "metadata": {},
   "outputs": [],
   "source": [
    "# Evaluate the two functions.\n",
    "y_exact = []\n",
    "y_fp = []\n",
    "for xx in x:\n",
    "    y_exact.append(F_exact(xx))\n",
    "    y_fp.append(F_fp(xx, t))"
   ]
  },
  {
   "cell_type": "code",
   "execution_count": 7,
   "metadata": {
    "scrolled": true
   },
   "outputs": [
    {
     "data": {
      "image/png": "[encoded data removed]",
      "text/plain": [
       "<Figure size 432x288 with 1 Axes>"
      ]
     },
     "metadata": {
      "needs_background": "light"
     },
     "output_type": "display_data"
    }
   ],
   "source": [
    "# Plot them together on the same axis.\n",
    "# Notice the labeled axes, and the legend.\n",
    "# (See plt.legend)\n",
    "plt.plot(x, y_exact, 'r--');\n",
    "plt.plot(x, y_fp, 'b');\n",
    "plt.legend(('F_exact', 'F_fp'));\n",
    "plt.xlabel('x'); plt.ylabel('F');\n",
    "plt.savefig('blah.eps')"
   ]
  },
  {
   "cell_type": "code",
   "execution_count": null,
   "metadata": {},
   "outputs": [],
   "source": []
  },
  {
   "cell_type": "markdown",
   "metadata": {},
   "source": [
    "## (b) Derive a different formula"
   ]
  },
  {
   "cell_type": "markdown",
   "metadata": {},
   "source": [
    "Here you can put $\\LaTeX$ code. (Double-click to edit, then \"run\" the block to render.)\n",
    "\\begin{align}\n",
    "F(x) &= \\frac{1}{1-x} - \\frac{1}{1+x} \\\\\n",
    " &= \\frac{(1+x)-(1-x)}{(1-x)(1+x)} \\\\\n",
    " &= \\frac{2x}{1-x^2}\n",
    "\\end{align}"
   ]
  },
  {
   "cell_type": "markdown",
   "metadata": {},
   "source": [
    "## (c) Implement `F2_fp`"
   ]
  },
  {
   "cell_type": "code",
   "execution_count": 8,
   "metadata": {},
   "outputs": [],
   "source": [
    "def F2_fp(x, t):\n",
    "    '''\n",
    "     y = F2_fp(x, t)\n",
    "     \n",
    "     Computes your alternative expression using t-digit arithmetic.\n",
    "     \n",
    "     Inputs:\n",
    "      x is the x-value\n",
    "      t is the number of mantissa digits for the arithmetic\n",
    "      \n",
    "     Output:\n",
    "      y is the value of the expression\n",
    "    '''\n",
    "\n",
    "    #=== YOUR CODE HERE ===\n",
    "    \n",
    "    xfp = fl(x, t=t)\n",
    "    f_numerator = fl(2.*xfp, t=t)\n",
    "    f_1 = fl(xfp*xfp, t=t)\n",
    "    f_denominator = fl(1.-f_1, t=t)\n",
    "    \n",
    "    return fl(f_numerator/f_denominator, t=t)"
   ]
  },
  {
   "cell_type": "markdown",
   "metadata": {},
   "source": [
    "## (d) Plot `F_fp` and `F2_fp` together"
   ]
  },
  {
   "cell_type": "code",
   "execution_count": 9,
   "metadata": {},
   "outputs": [],
   "source": [
    "# Evaluate the expressions over your chosen range of x\n",
    "x = np.linspace(-0.0005, 0.0005, 1000)\n",
    "t = 4\n",
    "\n",
    "y_f2_fp = []\n",
    "y_fp = []\n",
    "for xx in x:\n",
    "    y_f2_fp.append(F2_fp(xx, t))\n",
    "    y_fp.append(F_fp(xx, t))"
   ]
  },
  {
   "cell_type": "code",
   "execution_count": 10,
   "metadata": {},
   "outputs": [
    {
     "data": {
      "image/png": "[encoded data removed]",
      "text/plain": [
       "<Figure size 432x288 with 1 Axes>"
      ]
     },
     "metadata": {
      "needs_background": "light"
     },
     "output_type": "display_data"
    }
   ],
   "source": [
    "# and plot them on the same axis.\n",
    "plt.plot(x, y_f2_fp, 'r--');\n",
    "plt.plot(x, y_fp, 'b');\n",
    "plt.legend(('F2_fp', 'F_fp'));\n",
    "plt.xlabel('x'); plt.ylabel('F');\n",
    "plt.savefig('blah.eps')"
   ]
  },
  {
   "cell_type": "code",
   "execution_count": null,
   "metadata": {},
   "outputs": [],
   "source": []
  }
 ],
 "metadata": {
  "kernelspec": {
   "display_name": "Python 3",
   "language": "python",
   "name": "python3"
  },
  "language_info": {
   "codemirror_mode": {
    "name": "ipython",
    "version": 3
   },
   "file_extension": ".py",
   "mimetype": "text/x-python",
   "name": "python",
   "nbconvert_exporter": "python",
   "pygments_lexer": "ipython3",
   "version": "3.7.3"
  }
 },
 "nbformat": 4,
 "nbformat_minor": 2
}
