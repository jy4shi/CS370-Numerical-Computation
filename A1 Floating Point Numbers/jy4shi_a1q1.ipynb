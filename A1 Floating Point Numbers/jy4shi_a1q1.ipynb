{
 "cells": [
  {
   "cell_type": "markdown",
   "metadata": {},
   "source": [
    "# A1-Q1: randfp"
   ]
  },
  {
   "cell_type": "code",
   "execution_count": 1,
   "metadata": {},
   "outputs": [],
   "source": [
    "# Standard imports\n",
    "import numpy as np\n",
    "np.seterr(all='ignore');  # allows floating-point exceptions\n",
    "import matplotlib.pyplot as plt"
   ]
  },
  {
   "cell_type": "code",
   "execution_count": 2,
   "metadata": {
    "code_folding": []
   },
   "outputs": [],
   "source": [
    "def randfp(t, L, U):\n",
    "    '''\n",
    "     b = randfp(t, L, U)\n",
    "    \n",
    "     Generate a random normalized binary floating-point number with\n",
    "     t digits, and an exponent in the range [L,U]. For example,\n",
    "    \n",
    "       b = randfp(5, -4, 4)\n",
    "    \n",
    "     might yield\n",
    "    \n",
    "       b = '-0.10111b-2'\n",
    "    \n",
    "     or\n",
    "    \n",
    "       b = '+0.11100b4'\n",
    "    \n",
    "     Note that the output is a string, and that the first character is\n",
    "     always either a '+' or '-'. The number after the 'b' is\n",
    "     the exponent for the base 2, although the exponent itself is\n",
    "     represented in base-10. For example,\n",
    "    \n",
    "       b = '+0.11100b4'\n",
    "    \n",
    "     represents the number 0.11100 x 2^4.\n",
    "    '''\n",
    "\n",
    "    # ==== YOUR CODE HERE ====\n",
    "    \n",
    "    b = ''\n",
    "    random_0or1 = np.random.randint(0, 2)\n",
    "    if random_0or1 == 0:        # 50-50 chance whether the number is positive or negative\n",
    "        b = b + '-0.1'\n",
    "    else:\n",
    "        b = b + '+0.1'\n",
    "    \n",
    "    for var in range(t-1):      # add random 0s or 1s to the return value until reaches t-1\n",
    "        random_0or1 = np.random.randint(0, 2)\n",
    "        b = b + str(random_0or1)\n",
    "    \n",
    "    random_in_range = np.random.randint(L, U+1)   # randomly choose a number between L and U\n",
    "    \n",
    "    b = b + 'b' + str(random_in_range)\n",
    "    \n",
    "    return b"
   ]
  },
  {
   "cell_type": "code",
   "execution_count": 3,
   "metadata": {},
   "outputs": [
    {
     "name": "stdout",
     "output_type": "stream",
     "text": [
      "+0.10100b-4\n"
     ]
    }
   ],
   "source": [
    "b = randfp(5, -4, 4)\n",
    "print(b)"
   ]
  },
  {
   "cell_type": "code",
   "execution_count": null,
   "metadata": {},
   "outputs": [],
   "source": []
  },
  {
   "cell_type": "code",
   "execution_count": null,
   "metadata": {},
   "outputs": [],
   "source": []
  },
  {
   "cell_type": "code",
   "execution_count": null,
   "metadata": {},
   "outputs": [],
   "source": []
  },
  {
   "cell_type": "code",
   "execution_count": null,
   "metadata": {},
   "outputs": [],
   "source": []
  },
  {
   "cell_type": "code",
   "execution_count": null,
   "metadata": {},
   "outputs": [],
   "source": []
  }
 ],
 "metadata": {
  "kernelspec": {
   "display_name": "Python 3",
   "language": "python",
   "name": "python3"
  },
  "language_info": {
   "codemirror_mode": {
    "name": "ipython",
    "version": 3
   },
   "file_extension": ".py",
   "mimetype": "text/x-python",
   "name": "python",
   "nbconvert_exporter": "python",
   "pygments_lexer": "ipython3",
   "version": "3.7.3"
  },
  "toc": {
   "nav_menu": {},
   "number_sections": true,
   "sideBar": true,
   "skip_h1_title": false,
   "title_cell": "Table of Contents",
   "title_sidebar": "Contents",
   "toc_cell": false,
   "toc_position": {},
   "toc_section_display": true,
   "toc_window_display": false
  }
 },
 "nbformat": 4,
 "nbformat_minor": 2
}
