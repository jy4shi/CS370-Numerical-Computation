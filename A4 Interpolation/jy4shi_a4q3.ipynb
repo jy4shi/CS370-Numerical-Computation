{
 "cells": [
  {
   "cell_type": "markdown",
   "metadata": {},
   "source": [
    "# A4-Q3: `MySpline`"
   ]
  },
  {
   "cell_type": "code",
   "execution_count": 1,
   "metadata": {},
   "outputs": [],
   "source": [
    "import numpy as np\n",
    "import matplotlib.pyplot as plt\n",
    "%matplotlib inline"
   ]
  },
  {
   "cell_type": "markdown",
   "metadata": {},
   "source": [
    "## `MySpline`"
   ]
  },
  {
   "cell_type": "code",
   "execution_count": 2,
   "metadata": {},
   "outputs": [],
   "source": [
    "def MySpline(x, y):\n",
    "    '''\n",
    "     S = MySpline(x, y)\n",
    "\n",
    "     Input:\n",
    "       x and y are arrays (or lists) of corresponding x- and y-values,\n",
    "       specifying the points in the x-y plane.  The x-values\n",
    "       must be in increasing order.\n",
    "\n",
    "     Output:\n",
    "       S is a function that takes x or an array (or list) of x-values\n",
    "         It evaluates the cubic spline and returns the interpolated value.\n",
    "\n",
    "     Implementation:\n",
    "       \n",
    "       Hence...\n",
    "         a[0] = a_0          b[0] = b_1        c[0] = c_1\n",
    "         a[1] = a_1          b[1] = b_2        c[1] = c_2\n",
    "              :                   :                 :\n",
    "         a[n-2] = a_(n-2)    b[n-2] = b_(n-1)  c[n-2] = c_(n-1)\n",
    "         a[n-1] = a_(n-1)\n",
    "         \n",
    "       The polynomial piece is evaluated at xx using\n",
    "       \n",
    "         p_i(xx) = a[i]*(x[i+1]-xx)**3/(6*hi) + a[i+1]*(xx-x[i])**3/(6*hi) +\n",
    "                   b[i]*(x[i+1]-xx) + c[i]*(xx-x[i])\n",
    "\n",
    "       where hk = x[k+1] - x[k] for k = 0, ... , n-1\n",
    "    '''\n",
    "    n = len(x)\n",
    "    h = np.zeros(n-1)\n",
    "    b = np.zeros(n-1)\n",
    "    c = np.zeros(n-1)\n",
    "    a = np.zeros(n)\n",
    "    \n",
    "    M = np.zeros((n,n))\n",
    "    r = np.zeros(n)\n",
    "\n",
    "    \n",
    "    # === YOUR CODE HERE ===\n",
    "    # Goal: calculate a, b, c\n",
    "    # h depends on input x\n",
    "    for j in range(n-1):\n",
    "        h[j] = x[j+1] - x[j]\n",
    "    \n",
    "    # M is the LHS matrix, r is the RHS vector, M @ a should be r\n",
    "    # Since for natural BC, we know a_0 and a_(n-1) are 0\n",
    "    #     to get this result, we can set M[0][0]=1, r[0]=1, and M[n-1][n-1]=0,r[n-1]=1\n",
    "    M[0][0] = 1\n",
    "    r[0] = 0\n",
    "    M[n-1][n-1] = 1\n",
    "    r[n-1] = 0\n",
    "    \n",
    "    # the rest of M depends on h, and r depends on y and h\n",
    "    for i in range(n):\n",
    "        if i == 0:\n",
    "            M[i][i+1]=h[i]/6\n",
    "            continue\n",
    "        if i == n-1:\n",
    "            M[i][i-1]=h[i-1]/6\n",
    "            continue\n",
    "        M[i][i-1]=h[i-1]/6\n",
    "        M[i][i]=(h[i-1]+h[i])/3\n",
    "        M[i][i+1]=h[i]/6\n",
    "        r[i]=(y[i+1]-y[i])/h[i] - (y[i]-y[i-1])/h[i-1]\n",
    "    \n",
    "    # calculate a based on equation M @ a = r\n",
    "    a = np.linalg.solve(M, r)\n",
    "    \n",
    "    # calculate b and c based on a\n",
    "    for k in range(n-1):\n",
    "        b[k]=y[k]/h[k]-a[k]*h[k]/6\n",
    "        c[k]=y[k+1]/h[k]-a[k+1]*h[k]/6\n",
    "    \n",
    "    #======================================\n",
    "    #\n",
    "    # This is the function that gets returned.\n",
    "    # It evaluates the cubic spline at xvals.\n",
    "    #\n",
    "    def spline(xvals, x=x, a=a, b=b, c=c):\n",
    "        '''\n",
    "         S = spline(xvals)\n",
    "         \n",
    "         Evaluates the cubic spline at xvals.\n",
    "         \n",
    "         Inputs:\n",
    "          xvals can be list-like, or a scalar (**must be in ascending order**)\n",
    "          \n",
    "         Output:\n",
    "          S is a list of values with the same number of elements as x\n",
    "        '''\n",
    "        # Turn non-list-like input into list-like\n",
    "        if type(xvals) not in (list, np.ndarray,):\n",
    "            xvals = [xvals]\n",
    "        \n",
    "        S = []  # The return list of values\n",
    "        \n",
    "        # \n",
    "        k = 0   # this is the current polynomial piece\n",
    "        hk = x[k+1] - x[k]\n",
    "\n",
    "        for xx in xvals:\n",
    "\n",
    "            # If the next x-value is not on the current piece...\n",
    "            if xx>x[k+1]:\n",
    "                # ... Go to next piece\n",
    "                k += 1\n",
    "                hk = x[k+1] - x[k]\n",
    "\n",
    "            S_of_x = a[k]*(x[k+1]-xx)**3/(6*hk) + a[k+1]*(xx-x[k])**3/(6*hk) + b[k]*(x[k+1]-xx) + c[k]*(xx-x[k])\n",
    "\n",
    "            S.append(S_of_x)\n",
    "        \n",
    "        return S\n",
    "    #======================================\n",
    "    \n",
    "    return spline"
   ]
  },
  {
   "cell_type": "markdown",
   "metadata": {},
   "source": [
    "## Test `MySpline`"
   ]
  },
  {
   "cell_type": "code",
   "execution_count": 3,
   "metadata": {},
   "outputs": [],
   "source": [
    "# Simple data points to interpolate\n",
    "y = [1, 3, 4, 2, -1, 1]\n",
    "t = [0, 1, 2, 3,  4, 5]"
   ]
  },
  {
   "cell_type": "code",
   "execution_count": 4,
   "metadata": {},
   "outputs": [],
   "source": [
    "# Call the function\n",
    "sp = MySpline(t,y)"
   ]
  },
  {
   "cell_type": "code",
   "execution_count": 5,
   "metadata": {},
   "outputs": [
    {
     "data": {
      "image/png": "[encoded data removed]",
      "text/plain": [
       "<Figure size 432x288 with 1 Axes>"
      ]
     },
     "metadata": {
      "needs_background": "light"
     },
     "output_type": "display_data"
    }
   ],
   "source": [
    "# Plot the spline and the interpolation points\n",
    "xx = np.linspace(t[0], t[-1], 100)\n",
    "plt.plot(xx, sp(xx))\n",
    "plt.plot(t,y,'ro');"
   ]
  },
  {
   "cell_type": "code",
   "execution_count": null,
   "metadata": {},
   "outputs": [],
   "source": []
  }
 ],
 "metadata": {
  "kernelspec": {
   "display_name": "Python 3",
   "language": "python",
   "name": "python3"
  },
  "language_info": {
   "codemirror_mode": {
    "name": "ipython",
    "version": 3
   },
   "file_extension": ".py",
   "mimetype": "text/x-python",
   "name": "python",
   "nbconvert_exporter": "python",
   "pygments_lexer": "ipython3",
   "version": "3.7.3"
  }
 },
 "nbformat": 4,
 "nbformat_minor": 2
}
