{
 "cells": [
  {
   "cell_type": "markdown",
   "metadata": {},
   "source": [
    "# A3Q3: `MyODE`"
   ]
  },
  {
   "cell_type": "code",
   "execution_count": 1,
   "metadata": {},
   "outputs": [],
   "source": [
    "import numpy as np\n",
    "from copy import deepcopy\n",
    "import matplotlib.pyplot as plt"
   ]
  },
  {
   "cell_type": "code",
   "execution_count": 2,
   "metadata": {
    "code_folding": [
     0
    ]
   },
   "outputs": [],
   "source": [
    "class MyODESolution():\n",
    "    '''\n",
    "     sol = MyODESolution()\n",
    "     \n",
    "     A class to store the output of a numerical ODE solver.\n",
    "     \n",
    "     Notes:\n",
    "     - sol.t is a 1D NumPy array holding time stamps.\n",
    "     - sol.y is a NumPy array with one row for every element of sol.t.\n",
    "     - sol.termination is a number that indicates how the simulation ended.\n",
    "           If it is -1, then the end time was reached.\n",
    "           Otherwise, its value indicates which event was triggered.\n",
    "    '''\n",
    "    def __init__(self):\n",
    "        self.t = np.array([])\n",
    "        self.y = np.array([])\n",
    "        self.termination = -1"
   ]
  },
  {
   "cell_type": "markdown",
   "metadata": {},
   "source": [
    "## `MyODE`"
   ]
  },
  {
   "cell_type": "code",
   "execution_count": 3,
   "metadata": {},
   "outputs": [],
   "source": [
    "def MyODE(f, tspan, y0, rtol=0.001, events=(lambda t,y:np.array([1]))):\n",
    "    '''\n",
    "     sol = MyOde(f, tspan, y0, rtol=0.001, events=[])\n",
    "    \n",
    "     Numerically solves the initial value problem\n",
    "    \n",
    "        dy(t)/dt = f(t,y)\n",
    "            y(0) = y0\n",
    "    \n",
    "     using the Modified Euler adaptive time-stepping method.\n",
    "    \n",
    "     Input\n",
    "       f       a Python dynamics function with calling sequence\n",
    "                  dydt = f(t, y)\n",
    "       tspan   2-tuple giving the start and end times, [start, end]\n",
    "       y0      initial state of the system (as a 1D vector)\n",
    "       rtol    the tolerance for the relative error (default 0.001)\n",
    "       events  an event function with calling sequence\n",
    "                  val = events(t, y)\n",
    "               The function should return an array of values.\n",
    "               The computation stops as soon as a negative value is\n",
    "               returned by the event function.\n",
    "               If no event function is given, a default event function\n",
    "               is created that always returns a 1.\n",
    "    \n",
    "     Output\n",
    "       sol is an object of class MyODESolution. It has two member variables:\n",
    "       sol.t   1D vector holding time stamps\n",
    "       sol.y   an array that holds one state vector per row (corresponding\n",
    "               to the time stamps)\n",
    "       sol.termination is a scalar that indicates how the simulation stopped\n",
    "               If it is -1, then the end time was reached.\n",
    "               Otherwise, its value indicates which event was triggered.\n",
    "    \n",
    "       Notes:\n",
    "           - t and y have the same number of rows.\n",
    "    \n",
    "           - The first element of sol.t should be tspan[0], and the first\n",
    "             row of sol.y should be the initial state, y0.\n",
    "    \n",
    "           - If the computation was stopped by the triggering of an event,\n",
    "             then the last row of t and y should correspond to the\n",
    "             time that linear interpolation indicates for the zero-crossing\n",
    "             of the event-function.\n",
    "    '''\n",
    "\n",
    "    # Initial time and state\n",
    "    t = tspan[0]\n",
    "    y = np.array(deepcopy(y0))\n",
    "    \n",
    "    # Initialize output arrays, tlst and ylst\n",
    "    tlst = [t]\n",
    "    ylst = [list(y)]\n",
    "    \n",
    "    val = np.ones(len(y))  # Start out with a positive event-function value\n",
    "    # You can evaluate your events function using\n",
    "    #val = events(t, y)\n",
    "    # Start with some step size\n",
    "    h = 0.1\n",
    "    \n",
    "\n",
    "    #=== YOUR CODE HERE ===\n",
    "    event_occured = 0\n",
    "    event_index = 0\n",
    "    while t < tspan[1]:\n",
    "        val = events(t, y)\n",
    "        for i in range(len(val)):\n",
    "            if val[i] < 0:\n",
    "                event_occured = 1\n",
    "                event_index = i\n",
    "                break\n",
    "        if event_occured == 1:\n",
    "            break\n",
    "        \n",
    "        t_n = t\n",
    "        y_n = y\n",
    "        while True:\n",
    "            # Start with an Euler step\n",
    "            f_1 = f(t_n, y_n)\n",
    "            y_euler = y_n + h*f_1\n",
    "            t = t_n + h\n",
    "            # Evaluate f at the new point\n",
    "            f_2 = f(t, y_euler)\n",
    "            # Use the average of the two slopes\n",
    "            y = y_n + 0.5*h*(f_1+f_2)\n",
    "            \n",
    "            # Adapting Time-Stepping\n",
    "            rlocal_e = np.linalg.norm(y - y_euler) / np.linalg.norm(y)\n",
    "            if rlocal_e > rtol:\n",
    "                h = 0.5*h\n",
    "                continue\n",
    "            elif rlocal_e <= rtol:\n",
    "                h = 1.2*h\n",
    "                break\n",
    "        \n",
    "        tlst.append(t)\n",
    "        ylst.append(y)\n",
    "        \n",
    "        #print(y)\n",
    "        #print(val)\n",
    "    \n",
    "    # Assign values for sol.t and sol.y\n",
    "    sol = MyODESolution()\n",
    "    sol.t = np.array(tlst)\n",
    "    sol.y = np.array(ylst)\n",
    "    \n",
    "    \n",
    "    # If an event occurred...\n",
    "    # Interpolate to get a better estimate of the event time/state\n",
    "    \n",
    "    \n",
    "    #=== YOUR CODE HERE ===\n",
    "    if event_occured == 1:\n",
    "        sol.termination = event_index\n",
    "    \n",
    "    \n",
    "\n",
    "    \n",
    "    return sol"
   ]
  },
  {
   "cell_type": "markdown",
   "metadata": {},
   "source": [
    "## Test your implementation\n",
    "Try your `MyODE` function on this simple golf model."
   ]
  },
  {
   "cell_type": "code",
   "execution_count": 4,
   "metadata": {},
   "outputs": [],
   "source": [
    "# Dynamics function\n",
    "def simple_golf(t, z):\n",
    "    '''\n",
    "        z[0] = x(t)\n",
    "        z[1] = y(t)\n",
    "        z[3] = y'(t)\n",
    "    '''\n",
    "    # Vx is defined globally\n",
    "    return np.array([Vx, z[2] , -9.81])\n",
    "\n",
    "def ground(t,z):\n",
    "    return [z[1]]"
   ]
  },
  {
   "cell_type": "code",
   "execution_count": 5,
   "metadata": {},
   "outputs": [],
   "source": [
    "# IVP parameters\n",
    "tspan = [0, 10]\n",
    "y0 = [0, 0, 15]\n",
    "Vx = 25."
   ]
  },
  {
   "cell_type": "code",
   "execution_count": 6,
   "metadata": {},
   "outputs": [
    {
     "data": {
      "image/png": "[encoded data removed]",
      "text/plain": [
       "<Figure size 432x288 with 1 Axes>"
      ]
     },
     "metadata": {
      "needs_background": "light"
     },
     "output_type": "display_data"
    }
   ],
   "source": [
    "sol = MyODE(simple_golf, tspan, y0, events=ground)\n",
    "plt.plot(sol.y[:,0], sol.y[:,1], '.-');\n",
    "plt.xlabel('x'); plt.ylabel('y');\n",
    "plt.title('This should look like a parabola');"
   ]
  },
  {
   "cell_type": "code",
   "execution_count": null,
   "metadata": {},
   "outputs": [],
   "source": []
  },
  {
   "cell_type": "code",
   "execution_count": null,
   "metadata": {},
   "outputs": [],
   "source": []
  },
  {
   "cell_type": "code",
   "execution_count": null,
   "metadata": {},
   "outputs": [],
   "source": []
  },
  {
   "cell_type": "code",
   "execution_count": null,
   "metadata": {},
   "outputs": [],
   "source": []
  },
  {
   "cell_type": "code",
   "execution_count": null,
   "metadata": {},
   "outputs": [],
   "source": []
  },
  {
   "cell_type": "code",
   "execution_count": null,
   "metadata": {},
   "outputs": [],
   "source": []
  },
  {
   "cell_type": "code",
   "execution_count": null,
   "metadata": {},
   "outputs": [],
   "source": []
  },
  {
   "cell_type": "code",
   "execution_count": null,
   "metadata": {},
   "outputs": [],
   "source": []
  },
  {
   "cell_type": "code",
   "execution_count": null,
   "metadata": {},
   "outputs": [],
   "source": []
  },
  {
   "cell_type": "code",
   "execution_count": null,
   "metadata": {},
   "outputs": [],
   "source": []
  },
  {
   "cell_type": "code",
   "execution_count": null,
   "metadata": {},
   "outputs": [],
   "source": []
  },
  {
   "cell_type": "code",
   "execution_count": null,
   "metadata": {},
   "outputs": [],
   "source": []
  },
  {
   "cell_type": "code",
   "execution_count": null,
   "metadata": {},
   "outputs": [],
   "source": [
    "\n"
   ]
  },
  {
   "cell_type": "code",
   "execution_count": null,
   "metadata": {},
   "outputs": [],
   "source": []
  },
  {
   "cell_type": "code",
   "execution_count": null,
   "metadata": {},
   "outputs": [],
   "source": []
  },
  {
   "cell_type": "code",
   "execution_count": null,
   "metadata": {},
   "outputs": [],
   "source": []
  },
  {
   "cell_type": "code",
   "execution_count": null,
   "metadata": {},
   "outputs": [],
   "source": []
  },
  {
   "cell_type": "code",
   "execution_count": null,
   "metadata": {},
   "outputs": [],
   "source": []
  },
  {
   "cell_type": "code",
   "execution_count": null,
   "metadata": {},
   "outputs": [],
   "source": []
  }
 ],
 "metadata": {
  "kernelspec": {
   "display_name": "Python 3",
   "language": "python",
   "name": "python3"
  },
  "language_info": {
   "codemirror_mode": {
    "name": "ipython",
    "version": 3
   },
   "file_extension": ".py",
   "mimetype": "text/x-python",
   "name": "python",
   "nbconvert_exporter": "python",
   "pygments_lexer": "ipython3",
   "version": "3.7.3"
  },
  "toc": {
   "nav_menu": {},
   "number_sections": true,
   "sideBar": true,
   "skip_h1_title": false,
   "title_cell": "Table of Contents",
   "title_sidebar": "Contents",
   "toc_cell": false,
   "toc_position": {},
   "toc_section_display": true,
   "toc_window_display": false
  }
 },
 "nbformat": 4,
 "nbformat_minor": 2
}
