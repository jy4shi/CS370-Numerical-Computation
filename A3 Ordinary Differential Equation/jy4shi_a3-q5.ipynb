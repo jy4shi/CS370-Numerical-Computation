{
 "cells": [
  {
   "cell_type": "markdown",
   "metadata": {},
   "source": [
    "## A3Q5: Calculating $\\pi$"
   ]
  },
  {
   "cell_type": "code",
   "execution_count": 1,
   "metadata": {},
   "outputs": [],
   "source": [
    "import numpy as np\n",
    "import matplotlib.pyplot as plt\n",
    "from scipy.integrate import solve_ivp"
   ]
  },
  {
   "cell_type": "markdown",
   "metadata": {},
   "source": [
    "## (a) Prove $y(t) = 4\\arctan t$ is a solution"
   ]
  },
  {
   "cell_type": "markdown",
   "metadata": {},
   "source": [
    "**TYPESET YOUR SOLUTION HERE**\n",
    "\n",
    "\\begin{align}\n",
    "y(t) &= 4 \\arctan (t) \\\\\n",
    "y(0) &= 4 \\arctan (0) \\\\\n",
    "y(0) &= 4 (0) \\\\\n",
    "y(0) &= 0 \\\\\n",
    "& \\text{Thus, y(t)=4arctan(t) satisfies the initial state} \\\\\n",
    "\\frac{dy}{dt} &= \\frac{d}{dt}(4 \\arctan (t)) \\\\\n",
    "\\frac{dy}{dt} &= \\frac{4}{1+t^2} \\\\\n",
    "& \\text{Thus, y(t)=4arctan(t) satisfies the dynamics equations} \\\\\n",
    "& \\text{Therefore, y(t)=4arctan(t) is a solution to the IVP} \\\\\n",
    "\\end{align}"
   ]
  },
  {
   "cell_type": "markdown",
   "metadata": {},
   "source": [
    "## (b) Numerical solution of ODE"
   ]
  },
  {
   "cell_type": "code",
   "execution_count": 2,
   "metadata": {},
   "outputs": [
    {
     "name": "stdout",
     "output_type": "stream",
     "text": [
      "3.1415926535898118\n"
     ]
    }
   ],
   "source": [
    "# Solve the ODE using a numerical solver.\n",
    "\n",
    "#=== YOUR CODE HERE ===\n",
    "def f_prime(t, y):\n",
    "    return 4 / (1 + t**2)\n",
    "\n",
    "tspan = [0, 1]\n",
    "y0 = [0]\n",
    "\n",
    "sol = solve_ivp(f_prime, tspan, y0, max_step=0.01)\n",
    "\n",
    "estimate_pi = sol.y[0][-1]\n",
    "print(estimate_pi)"
   ]
  },
  {
   "cell_type": "markdown",
   "metadata": {},
   "source": [
    "## (c) Relative Error"
   ]
  },
  {
   "cell_type": "code",
   "execution_count": 3,
   "metadata": {},
   "outputs": [
    {
     "name": "stdout",
     "output_type": "stream",
     "text": [
      "The relative error of my estimate is 5.937035405398565e-15.\n",
      "And it is True that the relative error is less than 10^-8\n"
     ]
    }
   ],
   "source": [
    "#=== YOUR CODE HERE ===\n",
    "relative_error = abs(np.pi - estimate_pi) / np.pi\n",
    "boo = relative_error < 10**-8\n",
    "print('The relative error of my estimate is '+str(relative_error)+'.')\n",
    "print('And it is ' + str(boo) + \" that the relative error is less than 10^-8\")"
   ]
  },
  {
   "cell_type": "code",
   "execution_count": null,
   "metadata": {},
   "outputs": [],
   "source": []
  },
  {
   "cell_type": "code",
   "execution_count": null,
   "metadata": {},
   "outputs": [],
   "source": []
  },
  {
   "cell_type": "code",
   "execution_count": null,
   "metadata": {},
   "outputs": [],
   "source": []
  }
 ],
 "metadata": {
  "kernelspec": {
   "display_name": "Python 3",
   "language": "python",
   "name": "python3"
  },
  "language_info": {
   "codemirror_mode": {
    "name": "ipython",
    "version": 3
   },
   "file_extension": ".py",
   "mimetype": "text/x-python",
   "name": "python",
   "nbconvert_exporter": "python",
   "pygments_lexer": "ipython3",
   "version": "3.7.3"
  }
 },
 "nbformat": 4,
 "nbformat_minor": 2
}
