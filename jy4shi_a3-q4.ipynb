{
 "cells": [
  {
   "cell_type": "markdown",
   "metadata": {},
   "source": [
    "# A3Q4: Fox Chasing a Rabbit"
   ]
  },
  {
   "cell_type": "code",
   "execution_count": 1,
   "metadata": {},
   "outputs": [],
   "source": [
    "import numpy as np\n",
    "from copy import deepcopy\n",
    "import matplotlib.pyplot as plt\n",
    "from scipy.integrate import solve_ivp"
   ]
  },
  {
   "cell_type": "code",
   "execution_count": 2,
   "metadata": {},
   "outputs": [],
   "source": [
    "# If you plan to use your own MyODE code, paste your code here."
   ]
  },
  {
   "cell_type": "markdown",
   "metadata": {},
   "source": [
    "## Set up the rabbit's trajectory, `rabbit`"
   ]
  },
  {
   "cell_type": "code",
   "execution_count": 3,
   "metadata": {
    "code_folding": []
   },
   "outputs": [],
   "source": [
    "# This code doesn't concern you. Look away!\n",
    "from scipy.interpolate import interp1d\n",
    "\n",
    "c = np.array([[1.4, 1.8, 2.6, 3.5, 4.4, 5.7, 6.9, 7.9, 8.9, 9.7, 9.2, 8.5, 7.9,\n",
    "        7.6, 7.4, 7.7, 8.2],\n",
    "       [2.2, 1.8, 1.5, 1.2, 0.9, 1. , 1.3, 1.4, 1.2, 1.4, 2.1, 2.6, 3.1,\n",
    "        3.5, 4.7, 5.9, 6.6]])*3.\n",
    "knots = np.array([ 0.        ,  0.56568542,  1.4200858 ,  2.3687691 ,  3.3174524 ,\n",
    "        4.62129288,  5.85822456,  6.86321213,  7.88301603,  8.70763715,\n",
    "        9.56786968, 10.42810221, 11.20912718, 11.70912718, 12.92567968,\n",
    "       14.16261137, 15.0228439])\n",
    "\n",
    "rabbit = lambda t: np.array([interp1d(knots, c[0,:])(t), interp1d(knots, c[1,:])(t)])"
   ]
  },
  {
   "cell_type": "code",
   "execution_count": 4,
   "metadata": {},
   "outputs": [
    {
     "data": {
      "text/plain": [
       "array([4.58183767, 6.21816233])"
      ]
     },
     "execution_count": 4,
     "metadata": {},
     "output_type": "execute_result"
    }
   ],
   "source": [
    "rabbit(0.18)\n",
    "# Returns the (x,y) coords of the rabbit at time t."
   ]
  },
  {
   "cell_type": "markdown",
   "metadata": {},
   "source": [
    "## (a) Derive 1st-order System of DEs"
   ]
  },
  {
   "cell_type": "markdown",
   "metadata": {},
   "source": [
    "We are given the 2nd-order system,\n",
    "\\begin{align}\n",
    "f_x'' &= A \\frac{a_x}{\\| {\\bf a} \\|} - \\left(\\big\\| ( f_x', f_y' ) \\big\\| -S \\right) f_x' \\\\\n",
    "f_y'' &= A \\frac{a_y}{\\| {\\bf a} \\|} - \\left(\\big\\| (f_x', f_y') \\big\\| -S \\right) f_y'\n",
    "\\end{align}\n",
    "\n",
    "**YOUR SOLUTION HRERE**\n",
    "\n",
    "\\begin{align}\n",
    "\\text{Let }z=\\begin{bmatrix} z_1 \\\\z_2 \\\\z_3 \\\\z_4\\end{bmatrix} \n",
    "=\\begin{bmatrix} f_x \\\\ f_y \\\\f_x' \\\\f_y'\\end{bmatrix}\\\\\n",
    "\\end{align}\n",
    "\n",
    "Thus,\n",
    "\n",
    "\\begin{align}\n",
    "\\frac{d}{dt}z=\n",
    "\\begin{bmatrix} \n",
    "z_3 \\\\ \n",
    "z_4 \\\\\n",
    "A \\frac{a_x}{\\| {\\bf a} \\|} - \\left(\\big\\| ( z_3, z_4 ) \\big\\| -S \\right) z_3 \\\\\n",
    "A \\frac{a_y}{\\| {\\bf a} \\|} - \\left(\\big\\| (z_3, z_4) \\big\\| -S \\right) z_4\n",
    "\\end{bmatrix}\n",
    "\\end{align}\n",
    "\n",
    "Which is our new first-order differential equations system"
   ]
  },
  {
   "cell_type": "markdown",
   "metadata": {},
   "source": [
    "## (b) Dynamics function"
   ]
  },
  {
   "cell_type": "code",
   "execution_count": 5,
   "metadata": {},
   "outputs": [],
   "source": [
    "def fox(t, z, S, A):\n",
    "    \n",
    "    #=== YOUR CODE HERE ===\n",
    "    rabbit_loc = rabbit(t)\n",
    "    ax = rabbit_loc[0] - z[0]\n",
    "    ay = rabbit_loc[1] - z[1]\n",
    "    dzdt_2 = A / np.linalg.norm([ax, ay]) * ax - (np.linalg.norm([z[2], z[3]])-S)*z[2]\n",
    "    dzdt_3 = A / np.linalg.norm([ax, ay]) * ay - (np.linalg.norm([z[2], z[3]])-S)*z[3]\n",
    "    \n",
    "    dzdt = [z[2], z[3], dzdt_2, dzdt_3]\n",
    "    # dzdt = 0.  # Replace this line\n",
    "    return dzdt\n"
   ]
  },
  {
   "cell_type": "markdown",
   "metadata": {},
   "source": [
    "## (c) Events Functions"
   ]
  },
  {
   "cell_type": "code",
   "execution_count": 24,
   "metadata": {},
   "outputs": [],
   "source": [
    "# (i) Capture\n",
    "def capture(t, z):\n",
    "    \n",
    "    #=== YOUR CODE HERE ===\n",
    "    rabbit_loc = rabbit(t)\n",
    "    ax = rabbit_loc[0] - z[0]\n",
    "    ay = rabbit_loc[1] - z[1]\n",
    "    v = np.linalg.norm([ax, ay]) - 0.1\n",
    "    #v = 1.  # replace this line\n",
    "    return v\n",
    "\n",
    "capture.terminal = True\n",
    "capture.direction = 0\n",
    "\n",
    "# (ii) Electric Fence\n",
    "def fence(t, z):\n",
    "    \n",
    "    #=== YOUR CODE HERE ===\n",
    "    v = z[0] - 30\n",
    "    #v = 1.  # replace this line\n",
    "    return v\n",
    "\n",
    "fence.terminal = True\n",
    "fence.direction = 0\n",
    "\n"
   ]
  },
  {
   "cell_type": "markdown",
   "metadata": {},
   "source": [
    "## (d) Simulations (using `MyODE` or `solve_ivp`)"
   ]
  },
  {
   "cell_type": "code",
   "execution_count": 25,
   "metadata": {},
   "outputs": [
    {
     "data": {
      "image/png": "[encoded data removed]",
      "text/plain": [
       "<Figure size 432x288 with 1 Axes>"
      ]
     },
     "metadata": {
      "needs_background": "light"
     },
     "output_type": "display_data"
    }
   ],
   "source": [
    "# Fox hits the fence\n",
    "\n",
    "S = 2.4\n",
    "A = 4\n",
    "tspan = [0, 15]\n",
    "y0 = [0, 0, 0, 0]\n",
    "fun = lambda t,x: fox(t,x,S,A)\n",
    "fox_loc = solve_ivp(fun, tspan, y0, events=[capture, fence])\n",
    "\n",
    "t = fox_loc.t\n",
    "rabbit_x = [0]*len(t)\n",
    "rabbit_y = [0]*len(t)\n",
    "for i in range(len(t)):\n",
    "    rabbit_x[i] = rabbit(t[i])[0]\n",
    "    rabbit_y[i] = rabbit(t[i])[1]\n",
    "\n",
    "\n",
    "plt.plot(rabbit_x, rabbit_y, 'bo-');\n",
    "plt.plot(fox_loc.y[0], fox_loc.y[1], 'ro-');\n",
    "plt.xlabel('x position')\n",
    "plt.ylabel('y position');\n",
    "\n",
    "\n"
   ]
  },
  {
   "cell_type": "code",
   "execution_count": 26,
   "metadata": {},
   "outputs": [
    {
     "data": {
      "image/png": "[encoded data removed]",
      "text/plain": [
       "<Figure size 432x288 with 1 Axes>"
      ]
     },
     "metadata": {
      "needs_background": "light"
     },
     "output_type": "display_data"
    }
   ],
   "source": [
    "# Rabbit escapes\n",
    "# Fox hits the fence\n",
    "\n",
    "S = 2\n",
    "A = 4.4\n",
    "tspan = [0, 15]\n",
    "y0 = [0, 0, 0, 0]\n",
    "fun = lambda t,x: fox(t,x,S,A)\n",
    "fox_loc = solve_ivp(fun, tspan, y0, events=[capture, fence])\n",
    "\n",
    "t = fox_loc.t\n",
    "rabbit_x = [0]*len(t)\n",
    "rabbit_y = [0]*len(t)\n",
    "for i in range(len(t)):\n",
    "    rabbit_x[i] = rabbit(t[i])[0]\n",
    "    rabbit_y[i] = rabbit(t[i])[1]\n",
    "\n",
    "\n",
    "plt.plot(rabbit_x, rabbit_y, 'bo-');\n",
    "plt.plot(fox_loc.y[0], fox_loc.y[1], 'ro-');\n",
    "plt.xlabel('x position')\n",
    "plt.ylabel('y position');\n",
    "\n"
   ]
  },
  {
   "cell_type": "code",
   "execution_count": 27,
   "metadata": {},
   "outputs": [
    {
     "data": {
      "image/png": "[encoded data removed]",
      "text/plain": [
       "<Figure size 432x288 with 1 Axes>"
      ]
     },
     "metadata": {
      "needs_background": "light"
     },
     "output_type": "display_data"
    }
   ],
   "source": [
    "# Fox captures the rabbit\n",
    "# Fox hits the fence\n",
    "\n",
    "S = 2.5\n",
    "A = 7\n",
    "tspan = [0, 15]\n",
    "y0 = [0, 0, 0, 0]\n",
    "fun = lambda t,x: fox(t,x,S,A)\n",
    "fox_loc = solve_ivp(fun, tspan, y0, events=[capture, fence])\n",
    "\n",
    "t = fox_loc.t\n",
    "rabbit_x = [0]*len(t)\n",
    "rabbit_y = [0]*len(t)\n",
    "for i in range(len(t)):\n",
    "    rabbit_x[i] = rabbit(t[i])[0]\n",
    "    rabbit_y[i] = rabbit(t[i])[1]\n",
    "\n",
    "\n",
    "plt.plot(rabbit_x, rabbit_y, 'bo-');\n",
    "plt.plot(fox_loc.y[0], fox_loc.y[1], 'ro-');\n",
    "plt.xlabel('x position')\n",
    "plt.ylabel('y position');\n",
    "\n"
   ]
  },
  {
   "cell_type": "code",
   "execution_count": null,
   "metadata": {},
   "outputs": [],
   "source": []
  },
  {
   "cell_type": "code",
   "execution_count": null,
   "metadata": {},
   "outputs": [],
   "source": []
  },
  {
   "cell_type": "code",
   "execution_count": null,
   "metadata": {},
   "outputs": [],
   "source": []
  }
 ],
 "metadata": {
  "kernelspec": {
   "display_name": "Python 3",
   "language": "python",
   "name": "python3"
  },
  "language_info": {
   "codemirror_mode": {
    "name": "ipython",
    "version": 3
   },
   "file_extension": ".py",
   "mimetype": "text/x-python",
   "name": "python",
   "nbconvert_exporter": "python",
   "pygments_lexer": "ipython3",
   "version": "3.7.3"
  },
  "toc": {
   "nav_menu": {},
   "number_sections": true,
   "sideBar": true,
   "skip_h1_title": false,
   "title_cell": "Table of Contents",
   "title_sidebar": "Contents",
   "toc_cell": false,
   "toc_position": {},
   "toc_section_display": true,
   "toc_window_display": false
  }
 },
 "nbformat": 4,
 "nbformat_minor": 2
}
